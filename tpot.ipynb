{
 "cells": [
  {
   "cell_type": "code",
   "execution_count": 1,
   "metadata": {},
   "outputs": [],
   "source": [
    "import pandas as pd\n",
    "import os\n",
    "\n",
    "data_dir = \"/home/janani/Documents/pivony/multilabel-BERT/notebooks\"\n",
    "chunk_size = 10000  # Adjust this based on memory availability\n",
    "\n",
    "# Create an empty list to store chunks\n",
    "chunks = []\n",
    "\n",
    "# Read the TSV file in chunks\n",
    "for chunk in pd.read_csv(os.path.join(data_dir, \"test.tsv\"), sep='\\t', chunksize=chunk_size):\n",
    "    chunks.append(chunk)\n",
    "\n",
    "# Concatenate all the chunks into a single DataFrame\n",
    "df_data = pd.concat(chunks, ignore_index=True)\n",
    "\n"
   ]
  },
  {
   "cell_type": "code",
   "execution_count": 2,
   "metadata": {},
   "outputs": [
    {
     "data": {
      "text/html": [
       "<div>\n",
       "<style scoped>\n",
       "    .dataframe tbody tr th:only-of-type {\n",
       "        vertical-align: middle;\n",
       "    }\n",
       "\n",
       "    .dataframe tbody tr th {\n",
       "        vertical-align: top;\n",
       "    }\n",
       "\n",
       "    .dataframe thead th {\n",
       "        text-align: right;\n",
       "    }\n",
       "</style>\n",
       "<table border=\"1\" class=\"dataframe\">\n",
       "  <thead>\n",
       "    <tr style=\"text-align: right;\">\n",
       "      <th></th>\n",
       "      <th>astro-ph</th>\n",
       "      <th>cond-mat</th>\n",
       "      <th>cs</th>\n",
       "      <th>hep-ph</th>\n",
       "      <th>hep-th</th>\n",
       "      <th>math</th>\n",
       "      <th>physics</th>\n",
       "      <th>quant-ph</th>\n",
       "      <th>combined</th>\n",
       "    </tr>\n",
       "  </thead>\n",
       "  <tbody>\n",
       "    <tr>\n",
       "      <th>0</th>\n",
       "      <td>0</td>\n",
       "      <td>0</td>\n",
       "      <td>1</td>\n",
       "      <td>0</td>\n",
       "      <td>0</td>\n",
       "      <td>0</td>\n",
       "      <td>0</td>\n",
       "      <td>0</td>\n",
       "      <td>HPIM-DM: a fast and reliable dense-mode multic...</td>\n",
       "    </tr>\n",
       "    <tr>\n",
       "      <th>1</th>\n",
       "      <td>0</td>\n",
       "      <td>1</td>\n",
       "      <td>0</td>\n",
       "      <td>0</td>\n",
       "      <td>0</td>\n",
       "      <td>0</td>\n",
       "      <td>0</td>\n",
       "      <td>0</td>\n",
       "      <td>Optical $N$-invariant of graphene's viscous Ha...</td>\n",
       "    </tr>\n",
       "    <tr>\n",
       "      <th>2</th>\n",
       "      <td>0</td>\n",
       "      <td>0</td>\n",
       "      <td>0</td>\n",
       "      <td>0</td>\n",
       "      <td>0</td>\n",
       "      <td>1</td>\n",
       "      <td>0</td>\n",
       "      <td>0</td>\n",
       "      <td>Splitting theorems for Poisson and related str...</td>\n",
       "    </tr>\n",
       "    <tr>\n",
       "      <th>3</th>\n",
       "      <td>1</td>\n",
       "      <td>0</td>\n",
       "      <td>0</td>\n",
       "      <td>0</td>\n",
       "      <td>0</td>\n",
       "      <td>0</td>\n",
       "      <td>0</td>\n",
       "      <td>0</td>\n",
       "      <td>Overview on spectral line source finding and v...</td>\n",
       "    </tr>\n",
       "    <tr>\n",
       "      <th>4</th>\n",
       "      <td>0</td>\n",
       "      <td>0</td>\n",
       "      <td>0</td>\n",
       "      <td>1</td>\n",
       "      <td>0</td>\n",
       "      <td>0</td>\n",
       "      <td>0</td>\n",
       "      <td>0</td>\n",
       "      <td>On the lepton-nucleon neutral and charged curr...</td>\n",
       "    </tr>\n",
       "    <tr>\n",
       "      <th>...</th>\n",
       "      <td>...</td>\n",
       "      <td>...</td>\n",
       "      <td>...</td>\n",
       "      <td>...</td>\n",
       "      <td>...</td>\n",
       "      <td>...</td>\n",
       "      <td>...</td>\n",
       "      <td>...</td>\n",
       "      <td>...</td>\n",
       "    </tr>\n",
       "    <tr>\n",
       "      <th>1495</th>\n",
       "      <td>0</td>\n",
       "      <td>0</td>\n",
       "      <td>0</td>\n",
       "      <td>0</td>\n",
       "      <td>0</td>\n",
       "      <td>1</td>\n",
       "      <td>0</td>\n",
       "      <td>0</td>\n",
       "      <td>A Flexible Procedure for Mixture Proportion Es...</td>\n",
       "    </tr>\n",
       "    <tr>\n",
       "      <th>1496</th>\n",
       "      <td>1</td>\n",
       "      <td>0</td>\n",
       "      <td>0</td>\n",
       "      <td>0</td>\n",
       "      <td>0</td>\n",
       "      <td>0</td>\n",
       "      <td>0</td>\n",
       "      <td>0</td>\n",
       "      <td>Reverberation by a Relativistic Accretion Disk...</td>\n",
       "    </tr>\n",
       "    <tr>\n",
       "      <th>1497</th>\n",
       "      <td>0</td>\n",
       "      <td>0</td>\n",
       "      <td>0</td>\n",
       "      <td>0</td>\n",
       "      <td>0</td>\n",
       "      <td>1</td>\n",
       "      <td>0</td>\n",
       "      <td>0</td>\n",
       "      <td>A New Preconditioner for the GeneRank Problem....</td>\n",
       "    </tr>\n",
       "    <tr>\n",
       "      <th>1498</th>\n",
       "      <td>0</td>\n",
       "      <td>0</td>\n",
       "      <td>0</td>\n",
       "      <td>0</td>\n",
       "      <td>0</td>\n",
       "      <td>0</td>\n",
       "      <td>1</td>\n",
       "      <td>0</td>\n",
       "      <td>Threadlike bundle of tubules running inside bl...</td>\n",
       "    </tr>\n",
       "    <tr>\n",
       "      <th>1499</th>\n",
       "      <td>0</td>\n",
       "      <td>0</td>\n",
       "      <td>0</td>\n",
       "      <td>0</td>\n",
       "      <td>0</td>\n",
       "      <td>0</td>\n",
       "      <td>0</td>\n",
       "      <td>1</td>\n",
       "      <td>Multimode Fock states with large photon number...</td>\n",
       "    </tr>\n",
       "  </tbody>\n",
       "</table>\n",
       "<p>1500 rows × 9 columns</p>\n",
       "</div>"
      ],
      "text/plain": [
       "      astro-ph  cond-mat  cs  hep-ph  hep-th  math  physics  quant-ph  \\\n",
       "0            0         0   1       0       0     0        0         0   \n",
       "1            0         1   0       0       0     0        0         0   \n",
       "2            0         0   0       0       0     1        0         0   \n",
       "3            1         0   0       0       0     0        0         0   \n",
       "4            0         0   0       1       0     0        0         0   \n",
       "...        ...       ...  ..     ...     ...   ...      ...       ...   \n",
       "1495         0         0   0       0       0     1        0         0   \n",
       "1496         1         0   0       0       0     0        0         0   \n",
       "1497         0         0   0       0       0     1        0         0   \n",
       "1498         0         0   0       0       0     0        1         0   \n",
       "1499         0         0   0       0       0     0        0         1   \n",
       "\n",
       "                                               combined  \n",
       "0     HPIM-DM: a fast and reliable dense-mode multic...  \n",
       "1     Optical $N$-invariant of graphene's viscous Ha...  \n",
       "2     Splitting theorems for Poisson and related str...  \n",
       "3     Overview on spectral line source finding and v...  \n",
       "4     On the lepton-nucleon neutral and charged curr...  \n",
       "...                                                 ...  \n",
       "1495  A Flexible Procedure for Mixture Proportion Es...  \n",
       "1496  Reverberation by a Relativistic Accretion Disk...  \n",
       "1497  A New Preconditioner for the GeneRank Problem....  \n",
       "1498  Threadlike bundle of tubules running inside bl...  \n",
       "1499  Multimode Fock states with large photon number...  \n",
       "\n",
       "[1500 rows x 9 columns]"
      ]
     },
     "execution_count": 2,
     "metadata": {},
     "output_type": "execute_result"
    }
   ],
   "source": [
    "df_data"
   ]
  },
  {
   "cell_type": "code",
   "execution_count": 14,
   "metadata": {},
   "outputs": [],
   "source": [
    "# Separate features and labels\n",
    "X = df_data['combined']  \n",
    "y = df_data.drop(columns=['combined'])"
   ]
  },
  {
   "cell_type": "code",
   "execution_count": 15,
   "metadata": {},
   "outputs": [
    {
     "name": "stderr",
     "output_type": "stream",
     "text": [
      "/home/janani/Documents/pivony/ev/lib/python3.12/site-packages/transformers/tokenization_utils_base.py:1601: FutureWarning: `clean_up_tokenization_spaces` was not set. It will be set to `True` by default. This behavior will be depracted in transformers v4.45, and will be then set to `False` by default. For more details check this issue: https://github.com/huggingface/transformers/issues/31884\n",
      "  warnings.warn(\n"
     ]
    }
   ],
   "source": [
    "from transformers import BertTokenizer, BertModel\n",
    "import torch\n",
    "\n",
    "# Load pre-trained BERT model and tokenizer\n",
    "tokenizer = BertTokenizer.from_pretrained('bert-base-uncased')\n",
    "model = BertModel.from_pretrained('bert-base-uncased')\n",
    "\n",
    "# Tokenize and encode the text data\n",
    "def encode_texts(texts, tokenizer, model, max_length=128, batch_size=32):\n",
    "    all_embeddings = []\n",
    "    for i in range(0, len(texts), batch_size):\n",
    "        batch_texts = texts[i:i+batch_size]\n",
    "        inputs = tokenizer(batch_texts, return_tensors='pt', max_length=max_length, truncation=True, padding=True)\n",
    "        with torch.no_grad():\n",
    "            outputs = model(**inputs)\n",
    "        embeddings = outputs.last_hidden_state.mean(dim=1)  \n",
    "        all_embeddings.append(embeddings)\n",
    "    return torch.cat(all_embeddings)\n",
    "\n",
    "# Encode the text data\n",
    "X_encoded = encode_texts(X.tolist(), tokenizer, model)\n",
    "X_encoded = X_encoded.numpy()  # Convert to numpy array\n",
    "\n"
   ]
  },
  {
   "cell_type": "code",
   "execution_count": 17,
   "metadata": {},
   "outputs": [],
   "source": [
    "X_train, X_test, y_train, y_test = train_test_split(X_encoded, y, test_size=0.2, random_state=42)"
   ]
  },
  {
   "cell_type": "code",
   "execution_count": 18,
   "metadata": {},
   "outputs": [],
   "source": [
    "from tpot import TPOTClassifier\n",
    "from sklearn.multioutput import MultiOutputClassifier\n",
    "\n",
    "# Initialize TPOT with a reduced configuration dictionary and parallelization\n",
    "tpot = TPOTClassifier(\n",
    "    generations=5,\n",
    "    population_size=20,\n",
    "    verbosity=2,\n",
    "    random_state=42,\n",
    "    n_jobs=-1,  # Use all available CPU cores\n",
    "    early_stop=5,  # Stop if no improvement after 5 generations\n",
    "    config_dict={\n",
    "        'sklearn.ensemble.RandomForestClassifier': {\n",
    "            'n_estimators': [10, 50],\n",
    "            'max_features': [0.5, 0.7],\n",
    "            'max_depth': [None, 10]\n",
    "        },\n",
    "        'sklearn.linear_model.LogisticRegression': {\n",
    "            'C': [0.1, 1.0],\n",
    "            'solver': ['liblinear']\n",
    "        }\n",
    "    }\n",
    ")\n"
   ]
  },
  {
   "cell_type": "code",
   "execution_count": 20,
   "metadata": {},
   "outputs": [
    {
     "data": {
      "application/vnd.jupyter.widget-view+json": {
       "model_id": "bb2aa6125f524be7a1fd431825764906",
       "version_major": 2,
       "version_minor": 0
      },
      "text/plain": [
       "Optimization Progress:   0%|          | 0/120 [00:00<?, ?pipeline/s]"
      ]
     },
     "metadata": {},
     "output_type": "display_data"
    },
    {
     "name": "stdout",
     "output_type": "stream",
     "text": [
      "\n",
      "Generation 1 - Current best internal CV score: 0.9658333333333333\n",
      "\n",
      "Generation 2 - Current best internal CV score: 0.9658333333333333\n",
      "\n",
      "Generation 3 - Current best internal CV score: 0.9658333333333333\n",
      "\n",
      "Generation 4 - Current best internal CV score: 0.9674999999999999\n",
      "\n",
      "Generation 5 - Current best internal CV score: 0.9674999999999999\n",
      "\n",
      "Best pipeline: LogisticRegression(CombineDFs(CombineDFs(input_matrix, input_matrix), input_matrix), C=1.0, solver=liblinear)\n"
     ]
    },
    {
     "data": {
      "application/vnd.jupyter.widget-view+json": {
       "model_id": "4e816e1da86e452ba8d3c2ef63812378",
       "version_major": 2,
       "version_minor": 0
      },
      "text/plain": [
       "Optimization Progress:   0%|          | 0/120 [00:00<?, ?pipeline/s]"
      ]
     },
     "metadata": {},
     "output_type": "display_data"
    },
    {
     "name": "stdout",
     "output_type": "stream",
     "text": [
      "\n",
      "Generation 1 - Current best internal CV score: 0.9216666666666666\n",
      "\n",
      "Generation 2 - Current best internal CV score: 0.9216666666666666\n",
      "\n",
      "Generation 3 - Current best internal CV score: 0.9233333333333335\n",
      "\n",
      "Generation 4 - Current best internal CV score: 0.925\n",
      "\n",
      "Generation 5 - Current best internal CV score: 0.925\n",
      "\n",
      "Best pipeline: RandomForestClassifier(LogisticRegression(input_matrix, C=1.0, solver=liblinear), max_depth=None, max_features=0.5, n_estimators=10)\n"
     ]
    },
    {
     "data": {
      "application/vnd.jupyter.widget-view+json": {
       "model_id": "2a73e1732a154d8590fb82763f03bdb2",
       "version_major": 2,
       "version_minor": 0
      },
      "text/plain": [
       "Optimization Progress:   0%|          | 0/120 [00:00<?, ?pipeline/s]"
      ]
     },
     "metadata": {},
     "output_type": "display_data"
    },
    {
     "name": "stdout",
     "output_type": "stream",
     "text": [
      "\n",
      "Generation 1 - Current best internal CV score: 0.9383333333333332\n",
      "\n",
      "Generation 2 - Current best internal CV score: 0.9383333333333332\n",
      "\n",
      "Generation 3 - Current best internal CV score: 0.9383333333333332\n",
      "\n",
      "Generation 4 - Current best internal CV score: 0.9383333333333332\n",
      "\n",
      "Generation 5 - Current best internal CV score: 0.9383333333333332\n",
      "\n",
      "Best pipeline: LogisticRegression(input_matrix, C=0.1, solver=liblinear)\n"
     ]
    },
    {
     "data": {
      "application/vnd.jupyter.widget-view+json": {
       "model_id": "39e66e8cad35489999dc77c1037d5550",
       "version_major": 2,
       "version_minor": 0
      },
      "text/plain": [
       "Optimization Progress:   0%|          | 0/120 [00:00<?, ?pipeline/s]"
      ]
     },
     "metadata": {},
     "output_type": "display_data"
    },
    {
     "name": "stdout",
     "output_type": "stream",
     "text": [
      "\n",
      "Generation 1 - Current best internal CV score: 0.95\n",
      "\n",
      "Generation 2 - Current best internal CV score: 0.95\n",
      "\n",
      "Generation 3 - Current best internal CV score: 0.95\n",
      "\n",
      "Generation 4 - Current best internal CV score: 0.95\n",
      "\n",
      "Generation 5 - Current best internal CV score: 0.95\n",
      "\n",
      "Best pipeline: LogisticRegression(CombineDFs(input_matrix, input_matrix), C=1.0, solver=liblinear)\n"
     ]
    },
    {
     "data": {
      "application/vnd.jupyter.widget-view+json": {
       "model_id": "275223685a834d25b4266c8dccb61db0",
       "version_major": 2,
       "version_minor": 0
      },
      "text/plain": [
       "Optimization Progress:   0%|          | 0/120 [00:00<?, ?pipeline/s]"
      ]
     },
     "metadata": {},
     "output_type": "display_data"
    },
    {
     "name": "stdout",
     "output_type": "stream",
     "text": [
      "\n",
      "Generation 1 - Current best internal CV score: 0.9358333333333334\n",
      "\n",
      "Generation 2 - Current best internal CV score: 0.9358333333333334\n",
      "\n",
      "Generation 3 - Current best internal CV score: 0.9358333333333334\n",
      "\n",
      "Generation 4 - Current best internal CV score: 0.9358333333333334\n",
      "\n",
      "Generation 5 - Current best internal CV score: 0.9358333333333334\n",
      "\n",
      "Best pipeline: LogisticRegression(CombineDFs(input_matrix, input_matrix), C=0.1, solver=liblinear)\n"
     ]
    },
    {
     "data": {
      "application/vnd.jupyter.widget-view+json": {
       "model_id": "5d1d1fadec004daab16feb35892391f4",
       "version_major": 2,
       "version_minor": 0
      },
      "text/plain": [
       "Optimization Progress:   0%|          | 0/120 [00:00<?, ?pipeline/s]"
      ]
     },
     "metadata": {},
     "output_type": "display_data"
    },
    {
     "name": "stdout",
     "output_type": "stream",
     "text": [
      "\n",
      "Generation 1 - Current best internal CV score: 0.9024999999999999\n",
      "\n",
      "Generation 2 - Current best internal CV score: 0.9033333333333333\n",
      "\n",
      "Generation 3 - Current best internal CV score: 0.9033333333333333\n",
      "\n",
      "Generation 4 - Current best internal CV score: 0.9033333333333333\n",
      "\n",
      "Generation 5 - Current best internal CV score: 0.9033333333333333\n",
      "\n",
      "Best pipeline: RandomForestClassifier(LogisticRegression(input_matrix, C=0.1, solver=liblinear), max_depth=None, max_features=0.7, n_estimators=50)\n"
     ]
    },
    {
     "data": {
      "application/vnd.jupyter.widget-view+json": {
       "model_id": "1d8dc5dddbe34788a6a234fc36c9d04a",
       "version_major": 2,
       "version_minor": 0
      },
      "text/plain": [
       "Optimization Progress:   0%|          | 0/120 [00:00<?, ?pipeline/s]"
      ]
     },
     "metadata": {},
     "output_type": "display_data"
    },
    {
     "name": "stdout",
     "output_type": "stream",
     "text": [
      "\n",
      "Generation 1 - Current best internal CV score: 0.9025000000000001\n",
      "\n",
      "Generation 2 - Current best internal CV score: 0.9025000000000001\n",
      "\n",
      "Generation 3 - Current best internal CV score: 0.9025000000000001\n",
      "\n",
      "Generation 4 - Current best internal CV score: 0.9025000000000001\n",
      "\n",
      "Generation 5 - Current best internal CV score: 0.9025000000000001\n",
      "\n",
      "Best pipeline: LogisticRegression(CombineDFs(input_matrix, input_matrix), C=1.0, solver=liblinear)\n"
     ]
    },
    {
     "data": {
      "application/vnd.jupyter.widget-view+json": {
       "model_id": "bf7e5bb968cf4ac287937bb9131468ba",
       "version_major": 2,
       "version_minor": 0
      },
      "text/plain": [
       "Optimization Progress:   0%|          | 0/120 [00:00<?, ?pipeline/s]"
      ]
     },
     "metadata": {},
     "output_type": "display_data"
    },
    {
     "name": "stdout",
     "output_type": "stream",
     "text": [
      "\n",
      "Generation 1 - Current best internal CV score: 0.9683333333333334\n",
      "\n",
      "Generation 2 - Current best internal CV score: 0.9683333333333334\n",
      "\n",
      "Generation 3 - Current best internal CV score: 0.9683333333333334\n",
      "\n",
      "Generation 4 - Current best internal CV score: 0.9683333333333334\n",
      "\n",
      "Generation 5 - Current best internal CV score: 0.9683333333333334\n",
      "\n",
      "Best pipeline: RandomForestClassifier(LogisticRegression(input_matrix, C=0.1, solver=liblinear), max_depth=10, max_features=0.7, n_estimators=50)\n",
      "Accuracy: 0.6166666666666667\n",
      "Hamming Loss: 0.06791666666666667\n"
     ]
    }
   ],
   "source": [
    "from sklearn.metrics import accuracy_score, hamming_loss\n",
    "# Wrap TPOT in a MultiOutputClassifier\n",
    "multi_target_tpot = MultiOutputClassifier(tpot)\n",
    "\n",
    "# Fit the model on the subset\n",
    "multi_target_tpot.fit(X_train, y_train)\n",
    "\n",
    "# Predict on the test set\n",
    "y_pred = multi_target_tpot.predict(X_test)\n",
    "\n",
    "# Calculate accuracy\n",
    "accuracy = accuracy_score(y_test, y_pred)\n",
    "print(f'Accuracy: {accuracy}')\n",
    "\n",
    "# Calculate Hamming loss\n",
    "hamming = hamming_loss(y_test, y_pred)\n",
    "print(f'Hamming Loss: {hamming}')\n"
   ]
  },
  {
   "cell_type": "code",
   "execution_count": null,
   "metadata": {},
   "outputs": [],
   "source": []
  }
 ],
 "metadata": {
  "kernelspec": {
   "display_name": "ev",
   "language": "python",
   "name": "python3"
  },
  "language_info": {
   "codemirror_mode": {
    "name": "ipython",
    "version": 3
   },
   "file_extension": ".py",
   "mimetype": "text/x-python",
   "name": "python",
   "nbconvert_exporter": "python",
   "pygments_lexer": "ipython3",
   "version": "3.12.3"
  }
 },
 "nbformat": 4,
 "nbformat_minor": 2
}
